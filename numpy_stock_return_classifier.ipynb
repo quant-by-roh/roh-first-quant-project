{
 "cells": [
  {
   "cell_type": "code",
   "execution_count": null,
   "id": "04161aaf-b21a-4777-9454-6d613af59588",
   "metadata": {},
   "outputs": [],
   "source": [
    "🔧 Mini Project: Return Tracker + Stock Classifier (with NumPy)"
   ]
  },
  {
   "cell_type": "code",
   "execution_count": null,
   "id": "2e151ddc-3586-4d37-a33e-c226cb63fd26",
   "metadata": {},
   "outputs": [],
   "source": [
    " Set Up the Data\n",
    "Create arrays for:\n",
    "\n",
    "stock_names: [\"TCS\", \"Infosys\", \"HDFC\", \"Wipro\", \"Reliance\"]\n",
    "\n",
    "buy_prices: [1200, 1100, 1500, 400, 2500]\n",
    "\n",
    "current_prices: [1250, 1080, 1700, 390, 2600]\n",
    "\n",
    "2. Return Calculation\n",
    "Use NumPy to calculate absolute returns (profit/loss):\n",
    "\n",
    "\n",
    "returns = current_prices - buy_prices\n",
    "Then calculate percentage returns\n",
    "\n",
    "\n",
    "\n",
    "3. Classify Stocks\n",
    "Use logical filtering:\n",
    "\n",
    "Strong if return percentage > 10%\n",
    "\n",
    "Moderate if 0% < return <= 10%\n",
    "\n",
    "Loss if return < 0%\n",
    "\n",
    "Store the result per stock and print in readable format like:\n",
    "\n",
    "\n",
    "TCS: Profit ₹50 | Return: 4.17% | Rating: Moderate\n",
    "HDFC: Profit ₹200 | Return: 13.3% | Rating: Strong\n",
    "Infosys: Loss ₹20 | Return: -1.8% | Rating: Loss\n",
    "4. Final Summary\n",
    "Print:\n",
    "\n",
    "Total number of strong, moderate, and loss stocks\n",
    "\n",
    "Stock with highest return (use np.argmax)\n",
    "\n",
    "Average return across portfolio (use np.mean)\n",
    "\n"
   ]
  },
  {
   "cell_type": "code",
   "execution_count": null,
   "id": "efc28479-b22f-4ff8-b2ee-3ca65d3bdb8c",
   "metadata": {},
   "outputs": [],
   "source": []
  },
  {
   "cell_type": "code",
   "execution_count": 32,
   "id": "64334b60-e379-4013-9e99-e3a75a809ae9",
   "metadata": {},
   "outputs": [
    {
     "name": "stdout",
     "output_type": "stream",
     "text": [
      "stock : Infosys| loss $120| return :10.0%  | rating moderate\n",
      "stock : TCS| loss $-20| return :-1.54%  | rating weak\n",
      "stock : Wipro| loss $40| return :4.44%  | rating moderate\n",
      "stock : HDFC| loss $50| return :3.33%  | rating moderate\n",
      "stock : ICICI| loss $-20| return :-1.82%  | rating weak\n",
      "stock : Reliance| loss $400| return :19.05%  | rating strong\n",
      "\n",
      "strong stock count : 1\n",
      "moderate stock count : 3\n",
      "weak stock count : 2\n"
     ]
    }
   ],
   "source": [
    "import numpy  as np \n",
    "stock_names =np.array ([\"Infosys\", \"TCS\", \"Wipro\", \"HDFC\", \"ICICI\", \"Reliance\"])\n",
    "buy_prices = np.array([1200, 1300, 900, 1500, 1100, 2100])\n",
    "current_prices =np.array ([1320, 1280, 940, 1550, 1080, 2500])\n",
    "absolute_return=current_prices-buy_prices\n",
    "return_percentage=((current_prices-buy_prices)/buy_prices)*100\n",
    "strong_count=0\n",
    "moderate_count=0\n",
    "weak_count=0\n",
    "for i in range(len(stock_names)):\n",
    "    if return_percentage[i]>10:\n",
    "        rating=\"strong\"\n",
    "        strong_count+=1\n",
    "    elif 10>= return_percentage[i]>=0:\n",
    "        rating=\"moderate\"\n",
    "        moderate_count+=1\n",
    "    elif return_percentage[i]<0:\n",
    "        rating=\"weak\"\n",
    "        weak_count+=1\n",
    "        status = \"profit\" if absolute_return[i]>0 else \"loss\"\n",
    "    print(f\"stock : {stock_names[i]}| {status} ${absolute_return[i]}| return :{round(return_percentage[i],2)}%  | rating {rating}\")\n",
    "\n",
    "print(f\"\\nstrong stock count : {strong_count}\")\n",
    "\n",
    "print(f\"moderate stock count : {moderate_count}\")\n",
    "\n",
    "print(f\"weak stock count : {weak_count}\")\n",
    "#it was not at all at one go i have to build the code like  3 times each time i learned something\n",
    "#  new  and it was fun.\n",
    "                                  \n",
    "\n"
   ]
  },
  {
   "cell_type": "code",
   "execution_count": null,
   "id": "1b1b3010-1214-4427-85e4-95eb9de3ef01",
   "metadata": {},
   "outputs": [],
   "source": []
  },
  {
   "cell_type": "code",
   "execution_count": null,
   "id": "b7c1cb0d-056b-47a3-aec7-0048017eb431",
   "metadata": {},
   "outputs": [],
   "source": []
  }
 ],
 "metadata": {
  "kernelspec": {
   "display_name": "Python 3 (ipykernel)",
   "language": "python",
   "name": "python3"
  },
  "language_info": {
   "codemirror_mode": {
    "name": "ipython",
    "version": 3
   },
   "file_extension": ".py",
   "mimetype": "text/x-python",
   "name": "python",
   "nbconvert_exporter": "python",
   "pygments_lexer": "ipython3",
   "version": "3.13.5"
  }
 },
 "nbformat": 4,
 "nbformat_minor": 5
}
